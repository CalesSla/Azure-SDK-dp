{
 "cells": [
  {
   "cell_type": "code",
   "execution_count": 13,
   "metadata": {},
   "outputs": [
    {
     "data": {
      "text/plain": [
       "'OfflineRun_f75f1276-5384-4ba6-b50a-1578be15216a'"
      ]
     },
     "execution_count": 13,
     "metadata": {},
     "output_type": "execute_result"
    }
   ],
   "source": [
    "from azureml.core import Workspace, Model, Run\n",
    "\n",
    "ws = Workspace.from_config(\"./config\")\n",
    "\n",
    "run1 = Run.get_context()\n",
    "run_id = run1.id\n",
    "\n",
    "new_run = ws.get_run(\"f6a36767-5303-4f3c-b7d8-a71c93f0e2fe\")\n",
    "run_id"
   ]
  },
  {
   "cell_type": "code",
   "execution_count": 15,
   "metadata": {},
   "outputs": [
    {
     "data": {
      "text/plain": [
       "Model(workspace=Workspace.create(name='slavasdkworkspace', subscription_id='49e690c2-0fc4-42a6-ba64-9ea0fa04ddda', resource_group='AzureMLsdkgroup'), name=AdultIncome_models, id=AdultIncome_models:1, version=1, tags={'source': 'SDK-Run', 'algorithm': 'RandomForest'}, properties={'Accuracy': '0.8560753403623708'})"
      ]
     },
     "execution_count": 15,
     "metadata": {},
     "output_type": "execute_result"
    }
   ],
   "source": [
    "new_run.register_model(model_path=\"outputs/models.pkl\",\n",
    "                       model_name=\"AdultIncome_models\",\n",
    "                       tags={\"source\": \"SDK-Run\", \"algorithm\": \"RandomForest\"},\n",
    "                       properties={\"Accuracy\": new_run.get_metrics()['accuracy']},\n",
    "                       description=\"Combined Models from the Run\")"
   ]
  },
  {
   "cell_type": "code",
   "execution_count": 16,
   "metadata": {},
   "outputs": [
    {
     "name": "stdout",
     "output_type": "stream",
     "text": [
      "Registering model AdultIncome_models_local\n"
     ]
    },
    {
     "data": {
      "text/plain": [
       "Model(workspace=Workspace.create(name='slavasdkworkspace', subscription_id='49e690c2-0fc4-42a6-ba64-9ea0fa04ddda', resource_group='AzureMLsdkgroup'), name=AdultIncome_models_local, id=AdultIncome_models_local:1, version=1, tags={'source': 'SDK-Local', 'algorithm': 'RandomForest'}, properties={'Accuracy': '0.7866'})"
      ]
     },
     "execution_count": 16,
     "metadata": {},
     "output_type": "execute_result"
    }
   ],
   "source": [
    "Model.register(workspace=ws,\n",
    "               model_path=\"./outputs/models.pkl\",\n",
    "                model_name=\"AdultIncome_models_local\",\n",
    "                tags={\"source\": \"SDK-Local\", \"algorithm\": \"RandomForest\"},\n",
    "                properties={\"Accuracy\": 0.7866},\n",
    "                description=\"Combined Models from the Local\")"
   ]
  },
  {
   "cell_type": "code",
   "execution_count": 17,
   "metadata": {},
   "outputs": [
    {
     "data": {
      "text/plain": [
       "[Model(workspace=Workspace.create(name='slavasdkworkspace', subscription_id='49e690c2-0fc4-42a6-ba64-9ea0fa04ddda', resource_group='AzureMLsdkgroup'), name=AdultIncome_models_local, id=AdultIncome_models_local:1, version=1, tags={'source': 'SDK-Local', 'algorithm': 'RandomForest'}, properties={'Accuracy': '0.7866'}),\n",
       " Model(workspace=Workspace.create(name='slavasdkworkspace', subscription_id='49e690c2-0fc4-42a6-ba64-9ea0fa04ddda', resource_group='AzureMLsdkgroup'), name=AdultIncome_models, id=AdultIncome_models:1, version=1, tags={'source': 'SDK-Run', 'algorithm': 'RandomForest'}, properties={'Accuracy': '0.8560753403623708'})]"
      ]
     },
     "execution_count": 17,
     "metadata": {},
     "output_type": "execute_result"
    }
   ],
   "source": [
    "Model.list(ws)"
   ]
  },
  {
   "cell_type": "code",
   "execution_count": 18,
   "metadata": {},
   "outputs": [
    {
     "name": "stdout",
     "output_type": "stream",
     "text": [
      "\n",
      " AdultIncome_models_local version 1\n",
      "\t Run_ID :  None\n",
      "\t Accuracy : 0.7866\n",
      "\t source : SDK-Local\n",
      "\t algorithm : RandomForest\n",
      "\n",
      " AdultIncome_models version 1\n",
      "\t Run_ID :  f6a36767-5303-4f3c-b7d8-a71c93f0e2fe\n",
      "\t Accuracy : 0.8560753403623708\n",
      "\t source : SDK-Run\n",
      "\t algorithm : RandomForest\n"
     ]
    }
   ],
   "source": [
    "for model in  Model.list(ws):\n",
    "    print(\"\\n\", model.name, \"version\", model.version)\n",
    "    print(\"\\t\", \"Run_ID : \", model.run_id)\n",
    "\n",
    "    for prop_name in model.properties:\n",
    "        prop = model.properties[prop_name]\n",
    "        print(\"\\t\", prop_name, \":\", prop)\n",
    "    \n",
    "    for tags in model.tags:\n",
    "        tag = model.tags[tags]\n",
    "        print(\"\\t\", tags, \":\", tag)"
   ]
  },
  {
   "cell_type": "code",
   "execution_count": null,
   "metadata": {},
   "outputs": [],
   "source": []
  }
 ],
 "metadata": {
  "kernelspec": {
   "display_name": "newtensorflow",
   "language": "python",
   "name": "python3"
  },
  "language_info": {
   "codemirror_mode": {
    "name": "ipython",
    "version": 3
   },
   "file_extension": ".py",
   "mimetype": "text/x-python",
   "name": "python",
   "nbconvert_exporter": "python",
   "pygments_lexer": "ipython3",
   "version": "3.9.16"
  }
 },
 "nbformat": 4,
 "nbformat_minor": 2
}
