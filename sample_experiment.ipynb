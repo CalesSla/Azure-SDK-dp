{
 "cells": [
  {
   "cell_type": "code",
   "execution_count": 6,
   "metadata": {},
   "outputs": [],
   "source": [
    "from azureml.core import Workspace, Datastore, Dataset, Experiment\n",
    "from dotenv import load_dotenv, find_dotenv\n",
    "_ = load_dotenv(find_dotenv())\n",
    "\n",
    "ws = Workspace.from_config(\"./config\")\n",
    "az_store = Datastore.get(ws, \"azure_sdk_blob01\")\n",
    "az_dataset = Dataset.get_by_name(ws, \"Loan Data using SDK\")\n",
    "az_default_store = ws.get_default_datastore()"
   ]
  },
  {
   "cell_type": "code",
   "execution_count": 7,
   "metadata": {},
   "outputs": [],
   "source": [
    "# Create an experiment object\n",
    "\n",
    "experiment = Experiment(workspace=ws,\n",
    "                        name=\"Loan-SDK-Exp01\")"
   ]
  },
  {
   "cell_type": "code",
   "execution_count": 8,
   "metadata": {},
   "outputs": [],
   "source": [
    "# Run experiment using start_logging method\n",
    "\n",
    "new_run = experiment.start_logging()"
   ]
  },
  {
   "cell_type": "code",
   "execution_count": 12,
   "metadata": {},
   "outputs": [],
   "source": [
    "# Complete an experiment run\n",
    "\n",
    "new_run.complete()"
   ]
  },
  {
   "cell_type": "code",
   "execution_count": 13,
   "metadata": {},
   "outputs": [
    {
     "name": "stdout",
     "output_type": "stream",
     "text": [
      "{'infer_column_types': 'False', 'activity': 'to_pandas_dataframe'}\n",
      "{'infer_column_types': 'False', 'activity': 'to_pandas_dataframe', 'activityApp': 'TabularDataset'}\n"
     ]
    }
   ],
   "source": [
    "# Log experiment values\n",
    "\n",
    "new_run = experiment.start_logging()\n",
    "\n",
    "df = az_dataset.to_pandas_dataframe()\n",
    "\n",
    "total_observations = len(df)\n",
    "nulldf = df.isnull().sum()\n",
    "\n",
    "new_run.log(\"Total Observations\", total_observations)\n",
    "\n",
    "new_run.complete()"
   ]
  },
  {
   "cell_type": "code",
   "execution_count": 14,
   "metadata": {},
   "outputs": [
    {
     "name": "stdout",
     "output_type": "stream",
     "text": [
      "{'infer_column_types': 'False', 'activity': 'to_pandas_dataframe'}\n",
      "{'infer_column_types': 'False', 'activity': 'to_pandas_dataframe', 'activityApp': 'TabularDataset'}\n"
     ]
    }
   ],
   "source": [
    "# Log multiple experiment values\n",
    "\n",
    "new_run = experiment.start_logging()\n",
    "\n",
    "df = az_dataset.to_pandas_dataframe()\n",
    "\n",
    "total_observations = len(df)\n",
    "nulldf = df.isnull().sum()\n",
    "\n",
    "new_run.log(\"Total Observations\", total_observations)\n",
    "\n",
    "for columns in df.columns:\n",
    "    new_run.log(columns, nulldf[columns])\n",
    "\n",
    "new_run.complete()"
   ]
  },
  {
   "cell_type": "code",
   "execution_count": null,
   "metadata": {},
   "outputs": [],
   "source": []
  }
 ],
 "metadata": {
  "kernelspec": {
   "display_name": "newtensorflow",
   "language": "python",
   "name": "python3"
  },
  "language_info": {
   "codemirror_mode": {
    "name": "ipython",
    "version": 3
   },
   "file_extension": ".py",
   "mimetype": "text/x-python",
   "name": "python",
   "nbconvert_exporter": "python",
   "pygments_lexer": "ipython3",
   "version": "3.9.16"
  }
 },
 "nbformat": 4,
 "nbformat_minor": 2
}
