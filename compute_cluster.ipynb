{
 "cells": [
  {
   "cell_type": "code",
   "execution_count": 23,
   "metadata": {},
   "outputs": [],
   "source": [
    "from azureml.core import Workspace, ComputeTarget\n",
    "from dotenv import load_dotenv, find_dotenv\n",
    "_ = load_dotenv(find_dotenv())\n",
    "\n",
    "ws = Workspace.from_config(path=\"./config\")"
   ]
  },
  {
   "cell_type": "code",
   "execution_count": 17,
   "metadata": {},
   "outputs": [],
   "source": [
    "# Specify the cluster name\n",
    "cluster_name = \"my-cluster-001\""
   ]
  },
  {
   "cell_type": "code",
   "execution_count": 18,
   "metadata": {},
   "outputs": [],
   "source": [
    "# Provisioning configuration using AmlCompute\n",
    "from azureml.core.compute import AmlCompute\n",
    "\n",
    "compute_config = AmlCompute.provisioning_configuration(vm_size=\"STANDARD_D11_V2\",\n",
    "                                                       max_nodes=2)\n",
    "\n",
    "# Create the cluster\n",
    "\n",
    "new_cluster = AmlCompute.create(ws, cluster_name, compute_config)"
   ]
  },
  {
   "cell_type": "code",
   "execution_count": 30,
   "metadata": {},
   "outputs": [],
   "source": [
    "# # Delete all compute clusters\n",
    "# compute_targets = ws.compute_targets\n",
    "# compute_targets\n",
    "\n",
    "# for name, ct in compute_targets.items():\n",
    "#     if isinstance(ct, ComputeTarget) and ct.type == 'AmlCompute':\n",
    "#         ct.wait_for_completion(show_output=True)\n",
    "#         ct.delete()"
   ]
  },
  {
   "cell_type": "code",
   "execution_count": null,
   "metadata": {},
   "outputs": [],
   "source": []
  },
  {
   "cell_type": "code",
   "execution_count": null,
   "metadata": {},
   "outputs": [],
   "source": []
  },
  {
   "cell_type": "code",
   "execution_count": null,
   "metadata": {},
   "outputs": [],
   "source": []
  }
 ],
 "metadata": {
  "kernelspec": {
   "display_name": "newtensorflow",
   "language": "python",
   "name": "python3"
  },
  "language_info": {
   "codemirror_mode": {
    "name": "ipython",
    "version": 3
   },
   "file_extension": ".py",
   "mimetype": "text/x-python",
   "name": "python",
   "nbconvert_exporter": "python",
   "pygments_lexer": "ipython3",
   "version": "3.9.16"
  }
 },
 "nbformat": 4,
 "nbformat_minor": 2
}
