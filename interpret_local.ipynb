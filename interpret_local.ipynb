{
 "cells": [
  {
   "cell_type": "code",
   "execution_count": 1,
   "metadata": {},
   "outputs": [],
   "source": [
    "import pandas as pd\n",
    "\n",
    "df = pd.read_csv(\"./data/adultincome trunc.csv\")\n",
    "data_prep = pd.get_dummies(df, drop_first=True)\n",
    "X = data_prep.iloc[:, :-1]\n",
    "Y = data_prep.iloc[:, -1]\n",
    "\n",
    "from sklearn.model_selection import train_test_split\n",
    "X_train, X_test, Y_train, Y_test = train_test_split(X, Y, test_size=0.3, random_state=1234, stratify=Y)"
   ]
  },
  {
   "cell_type": "code",
   "execution_count": 3,
   "metadata": {},
   "outputs": [
    {
     "data": {
      "text/plain": [
       "0.7983333333333333"
      ]
     },
     "execution_count": 3,
     "metadata": {},
     "output_type": "execute_result"
    }
   ],
   "source": [
    "from sklearn.ensemble import RandomForestClassifier\n",
    "rfc = RandomForestClassifier(random_state=1234)\n",
    "trained_model = rfc.fit(X_train, Y_train)\n",
    "\n",
    "Y_predict = rfc.predict(X_test)\n",
    "\n",
    "from sklearn.metrics import confusion_matrix\n",
    "cm = confusion_matrix(Y_test, Y_predict)\n",
    "score = rfc.score(X_test, Y_test)\n",
    "score"
   ]
  },
  {
   "cell_type": "code",
   "execution_count": 6,
   "metadata": {},
   "outputs": [],
   "source": [
    "# Create explanations for the model\n",
    "\n",
    "from interpret.ext.blackbox import TabularExplainer\n",
    "\n",
    "classes = [\"Not Greater than 50K\", \"Greater than 50k\"]\n",
    "features = list(X.columns)\n",
    "\n",
    "tab_explainer = TabularExplainer(trained_model,\n",
    "                                 X_train,\n",
    "                                 features=features,\n",
    "                                 classes=classes)\n",
    "\n",
    "# Get the global explanations\n",
    "global_explanation = tab_explainer.explain_global(X_train)"
   ]
  },
  {
   "cell_type": "code",
   "execution_count": 7,
   "metadata": {},
   "outputs": [
    {
     "data": {
      "text/plain": [
       "{'marital status_Married': 0.134457897553098,\n",
       " 'age': 0.08737999026945,\n",
       " 'hours per week': 0.054862878214208904,\n",
       " 'education_ HS-grad': 0.05459228226812601,\n",
       " 'marital status_ Never-married': 0.04201492036510847,\n",
       " 'education_ Some-college': 0.03902094175894924,\n",
       " 'gender_ Male': 0.026954924512638787,\n",
       " 'education_ Masters': 0.013130510698434426,\n",
       " 'race_ White': 0.013018742998495862,\n",
       " 'wc_ Private': 0.008260686989919535,\n",
       " 'wc_ Local-gov': 0.006514623134033063,\n",
       " 'education_ Prof-school': 0.006411507490632027,\n",
       " 'race_ Black': 0.00431141694330449,\n",
       " 'education_ Doctorate': 0.003320328208831908,\n",
       " 'race_ Asian-Pac-Islander': 0.0021244991478086886,\n",
       " 'marital status_ Widowed': 0.0016788032177812158,\n",
       " 'race_ Other': 0.0003622585777075659,\n",
       " 'education_ Preschool': 3.30258572723802e-05}"
      ]
     },
     "execution_count": 7,
     "metadata": {},
     "output_type": "execute_result"
    }
   ],
   "source": [
    "# Get the feature importance data\n",
    "global_fi = global_explanation.get_feature_importance_dict()\n",
    "global_fi"
   ]
  },
  {
   "cell_type": "code",
   "execution_count": 11,
   "metadata": {},
   "outputs": [
    {
     "name": "stdout",
     "output_type": "stream",
     "text": [
      "\n",
      " Feature support values for: Not Greater than 50K\n",
      "\n",
      "\tObservation number: 1\n",
      "\t\t Feature Name                    Value\n",
      "\t\t ------------------------------ ----------\n",
      "\t\t education_ HS-grad             0.157534\n",
      "\t\t hours per week                 0.062715\n",
      "\t\t wc_ Private                    0.0179\n",
      "\t\t education_ Masters             0.012778\n",
      "\t\t education_ Prof-school         0.004132\n",
      "\t\t race_ Black                    0.003311\n",
      "\t\t education_ Doctorate           0.001875\n",
      "\t\t education_ Preschool           -1.1e-05\n",
      "\t\t race_ Other                    -0.000325\n",
      "\t\t wc_ Local-gov                  -0.000783\n",
      "\t\t race_ Asian-Pac-Islander       -0.001856\n",
      "\t\t marital status_ Widowed        -0.002629\n",
      "\t\t gender_ Male                   -0.006227\n",
      "\t\t race_ White                    -0.013401\n",
      "\t\t education_ Some-college        -0.022706\n",
      "\t\t marital status_ Never-married  -0.04377\n",
      "\t\t age                            -0.064633\n",
      "\t\t marital status_Married         -0.149913\n",
      "\n",
      "\tObservation number: 2\n",
      "\t\t Feature Name                    Value\n",
      "\t\t ------------------------------ ----------\n",
      "\t\t marital status_Married         0.11369\n",
      "\t\t hours per week                 0.058264\n",
      "\t\t education_ HS-grad             0.051995\n",
      "\t\t gender_ Male                   0.023164\n",
      "\t\t race_ White                    0.017384\n",
      "\t\t age                            0.010765\n",
      "\t\t race_ Black                    0.005979\n",
      "\t\t education_ Masters             0.005284\n",
      "\t\t wc_ Private                    0.003024\n",
      "\t\t race_ Asian-Pac-Islander       0.002518\n",
      "\t\t education_ Prof-school         0.002331\n",
      "\t\t education_ Doctorate           0.001872\n",
      "\t\t marital status_ Widowed        0.000108\n",
      "\t\t education_ Preschool           -9e-06\n",
      "\t\t race_ Other                    -0.00012\n",
      "\t\t wc_ Local-gov                  -0.000154\n",
      "\t\t education_ Some-college        -0.011581\n",
      "\t\t marital status_ Never-married  -0.017191\n",
      "\n",
      "\tObservation number: 3\n",
      "\t\t Feature Name                    Value\n",
      "\t\t ------------------------------ ----------\n",
      "\t\t marital status_Married         0.134219\n",
      "\t\t education_ HS-grad             0.042854\n",
      "\t\t gender_ Male                   0.024328\n",
      "\t\t education_ Masters             0.012574\n",
      "\t\t hours per week                 0.00731\n",
      "\t\t education_ Prof-school         0.003684\n",
      "\t\t education_ Doctorate           0.002328\n",
      "\t\t race_ Asian-Pac-Islander       0.001136\n",
      "\t\t education_ Preschool           -1.6e-05\n",
      "\t\t race_ Other                    -0.000133\n",
      "\t\t wc_ Local-gov                  -0.00087\n",
      "\t\t race_ Black                    -0.001906\n",
      "\t\t wc_ Private                    -0.003067\n",
      "\t\t race_ White                    -0.004392\n",
      "\t\t marital status_ Widowed        -0.006525\n",
      "\t\t education_ Some-college        -0.020963\n",
      "\t\t marital status_ Never-married  -0.041202\n",
      "\t\t age                            -0.062038\n",
      "\n",
      "\tObservation number: 5\n",
      "\t\t Feature Name                    Value\n",
      "\t\t ------------------------------ ----------\n",
      "\t\t education_ Some-college        0.110241\n",
      "\t\t age                            0.102257\n",
      "\t\t hours per week                 0.063144\n",
      "\t\t education_ Masters             0.014254\n",
      "\t\t education_ Prof-school         0.00344\n",
      "\t\t gender_ Male                   0.002959\n",
      "\t\t education_ Doctorate           0.002483\n",
      "\t\t education_ Preschool           -1.5e-05\n",
      "\t\t race_ Other                    -0.00026\n",
      "\t\t marital status_ Widowed        -0.000331\n",
      "\t\t race_ Asian-Pac-Islander       -0.000612\n",
      "\t\t wc_ Local-gov                  -0.000823\n",
      "\t\t race_ Black                    -0.001552\n",
      "\t\t wc_ Private                    -0.002132\n",
      "\t\t race_ White                    -0.006911\n",
      "\t\t education_ HS-grad             -0.021505\n",
      "\t\t marital status_ Never-married  -0.028896\n",
      "\t\t marital status_Married         -0.111086\n",
      "\n",
      " Feature support values for: Greater than 50k\n",
      "\n",
      "\tObservation number: 4\n",
      "\t\t Feature Name                    Value\n",
      "\t\t ------------------------------ ----------\n",
      "\t\t marital status_Married         0.146159\n",
      "\t\t education_ Masters             0.113299\n",
      "\t\t hours per week                 0.092064\n",
      "\t\t education_ HS-grad             0.071788\n",
      "\t\t age                            0.059597\n",
      "\t\t marital status_ Never-married  0.048664\n",
      "\t\t gender_ Male                   0.048334\n",
      "\t\t wc_ Private                    0.020095\n",
      "\t\t education_ Some-college        0.011597\n",
      "\t\t race_ White                    0.010881\n",
      "\t\t race_ Asian-Pac-Islander       0.001948\n",
      "\t\t marital status_ Widowed        0.000716\n",
      "\t\t race_ Black                    0.000622\n",
      "\t\t race_ Other                    0.000392\n",
      "\t\t education_ Preschool           1.9e-05\n",
      "\t\t education_ Doctorate           -0.001695\n",
      "\t\t education_ Prof-school         -0.002164\n",
      "\t\t wc_ Local-gov                  -0.039636\n"
     ]
    }
   ],
   "source": [
    "# Get the Local feature importances\n",
    "\n",
    "X_explain = X_test[0:5]\n",
    "\n",
    "local_explanation = tab_explainer.explain_local(X_explain)\n",
    "\n",
    "local_features = local_explanation.get_ranked_local_names()\n",
    "local_importance = local_explanation.get_ranked_local_values()\n",
    "\n",
    "for i in range(len(local_features)):\n",
    "    labels = local_features[i]\n",
    "    print(f\"\\n Feature support values for: {classes[i]}\")\n",
    "    for j in range(len(labels)):\n",
    "        if Y_predict[j] == i:\n",
    "            print(f\"\\n\\tObservation number: {j+1}\")\n",
    "            feature_names = labels[j]\n",
    "            print(\"\\t\\t\", \"Feature Name\".ljust(30),  \" Value\")\n",
    "            print(\"\\t\\t\", \"-\"*30, \"-\"*10)\n",
    "            for k in range(len(feature_names)):\n",
    "                print(\"\\t\\t\", feature_names[k].ljust(30), round(local_importance[i][j][k], 6))"
   ]
  },
  {
   "cell_type": "code",
   "execution_count": null,
   "metadata": {},
   "outputs": [],
   "source": []
  },
  {
   "cell_type": "code",
   "execution_count": null,
   "metadata": {},
   "outputs": [],
   "source": []
  }
 ],
 "metadata": {
  "kernelspec": {
   "display_name": "newtensorflow",
   "language": "python",
   "name": "python3"
  },
  "language_info": {
   "codemirror_mode": {
    "name": "ipython",
    "version": 3
   },
   "file_extension": ".py",
   "mimetype": "text/x-python",
   "name": "python",
   "nbconvert_exporter": "python",
   "pygments_lexer": "ipython3",
   "version": "3.9.16"
  }
 },
 "nbformat": 4,
 "nbformat_minor": 2
}
