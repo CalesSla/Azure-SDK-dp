{
 "cells": [
  {
   "cell_type": "code",
   "execution_count": 2,
   "metadata": {},
   "outputs": [
    {
     "name": "stdout",
     "output_type": "stream",
     "text": [
      "Accessing the workspace from job...\n",
      "Accessing the Defaults dataset...\n"
     ]
    }
   ],
   "source": [
    "from azureml.core import Workspace, Experiment\n",
    "\n",
    "print(\"Accessing the workspace from job...\")\n",
    "ws = Workspace.from_config(\"./config\")\n",
    "\n",
    "print(\"Accessing the Defaults dataset...\")\n",
    "input_ds = ws.datasets.get(\"Defaults\")"
   ]
  },
  {
   "cell_type": "code",
   "execution_count": 3,
   "metadata": {},
   "outputs": [
    {
     "name": "stdout",
     "output_type": "stream",
     "text": [
      "Registering the environmenr...\n"
     ]
    },
    {
     "data": {
      "text/plain": [
       "{\n",
       "    \"assetId\": \"azureml://locations/westus/workspaces/54b058d1-e724-4986-aece-5eb3256cb2e6/environments/Myenv/versions/1\",\n",
       "    \"databricks\": {\n",
       "        \"eggLibraries\": [],\n",
       "        \"jarLibraries\": [],\n",
       "        \"mavenLibraries\": [],\n",
       "        \"pypiLibraries\": [],\n",
       "        \"rcranLibraries\": []\n",
       "    },\n",
       "    \"docker\": {\n",
       "        \"arguments\": [],\n",
       "        \"baseDockerfile\": null,\n",
       "        \"baseImage\": \"mcr.microsoft.com/azureml/openmpi4.1.0-ubuntu20.04:20240304.v1\",\n",
       "        \"baseImageRegistry\": {\n",
       "            \"address\": null,\n",
       "            \"password\": null,\n",
       "            \"registryIdentity\": null,\n",
       "            \"username\": null\n",
       "        },\n",
       "        \"buildContext\": null,\n",
       "        \"enabled\": false,\n",
       "        \"platform\": {\n",
       "            \"architecture\": \"amd64\",\n",
       "            \"os\": \"Linux\"\n",
       "        },\n",
       "        \"sharedVolumes\": true,\n",
       "        \"shmSize\": null\n",
       "    },\n",
       "    \"environmentVariables\": {\n",
       "        \"EXAMPLE_ENV_VAR\": \"EXAMPLE_VALUE\"\n",
       "    },\n",
       "    \"inferencingStackVersion\": null,\n",
       "    \"name\": \"Myenv\",\n",
       "    \"python\": {\n",
       "        \"baseCondaEnvironment\": null,\n",
       "        \"condaDependencies\": {\n",
       "            \"channels\": [\n",
       "                \"anaconda\",\n",
       "                \"conda-forge\"\n",
       "            ],\n",
       "            \"dependencies\": [\n",
       "                \"python=3.8.13\",\n",
       "                {\n",
       "                    \"pip\": [\n",
       "                        \"azureml-defaults\"\n",
       "                    ]\n",
       "                },\n",
       "                \"scikit-learn\",\n",
       "                \"pip\"\n",
       "            ],\n",
       "            \"name\": \"project_environment\"\n",
       "        },\n",
       "        \"condaDependenciesFile\": null,\n",
       "        \"interpreterPath\": \"python\",\n",
       "        \"userManagedDependencies\": false\n",
       "    },\n",
       "    \"r\": null,\n",
       "    \"spark\": {\n",
       "        \"packages\": [],\n",
       "        \"precachePackages\": true,\n",
       "        \"repositories\": []\n",
       "    },\n",
       "    \"version\": \"1\"\n",
       "}"
      ]
     },
     "execution_count": 3,
     "metadata": {},
     "output_type": "execute_result"
    }
   ],
   "source": [
    "from azureml.core import Environment\n",
    "from azureml.core.environment import CondaDependencies\n",
    "\n",
    "myenv = Environment(name=\"Myenv\")\n",
    "myenv_dep = CondaDependencies.create(conda_packages=['scikit-learn', \"pip\"],\n",
    "                                     pip_packages=['azureml-defaults'])\n",
    "myenv.python.conda_dependencies = myenv_dep\n",
    "\n",
    "print(\"Registering the environmenr...\")\n",
    "myenv.register(ws)"
   ]
  },
  {
   "cell_type": "code",
   "execution_count": 4,
   "metadata": {},
   "outputs": [
    {
     "name": "stdout",
     "output_type": "stream",
     "text": [
      "Accessing the compute cluster...\n",
      "Creating the compute cluster with name:  my-cluster-001\n",
      "Provisioning operation finished, operation \"Succeeded\"\n"
     ]
    }
   ],
   "source": [
    "cluster_name = \"my-cluster-001\"\n",
    "from azureml.core.compute import AmlCompute\n",
    "\n",
    "print(\"Accessing the compute cluster...\")\n",
    "\n",
    "if cluster_name not in ws.compute_targets:\n",
    "    print(\"Creating the compute cluster with name: \", cluster_name)\n",
    "    compute_config = AmlCompute.provisioning_configuration(vm_size=\"STANDARD_D11_V2\", max_nodes=2)\n",
    "    cluster = AmlCompute.create(ws, cluster_name, compute_config)\n",
    "    cluster.wait_for_completion()\n",
    "else:\n",
    "    cluster = ws.compute_targets[cluster_name]\n",
    "    print(cluster_name, \", compute cluster found. Using it...\")"
   ]
  },
  {
   "cell_type": "code",
   "execution_count": 5,
   "metadata": {},
   "outputs": [],
   "source": [
    "from azureml.core import ScriptRunConfig\n",
    "\n",
    "script_config = ScriptRunConfig(source_directory=\".\",\n",
    "                                script=\"320 - hyperdrive script.py\",\n",
    "                                arguments = [\"--input-data\", input_ds.as_named_input(\"raw_data\")],\n",
    "                                environment=myenv,\n",
    "                                compute_target=cluster)"
   ]
  },
  {
   "cell_type": "code",
   "execution_count": 6,
   "metadata": {},
   "outputs": [],
   "source": [
    "# Create Hyper drive parameters\n",
    "\n",
    "from azureml.train.hyperdrive import GridParameterSampling, choice, HyperDriveConfig, PrimaryMetricGoal\n",
    "\n",
    "hyper_params = GridParameterSampling({\"--n_estimators\": choice(10, 20, 50, 100),\n",
    "                                      \"--min_samples_leaf\": choice(1, 2, 5)})\n",
    "\n",
    "# Configure Hyperdrive class\n",
    "\n",
    "hyper_config = HyperDriveConfig(run_config=script_config,\n",
    "                                hyperparameter_sampling=hyper_params,\n",
    "                                policy=None,\n",
    "                                primary_metric_name=\"accuracy\",\n",
    "                                primary_metric_goal=PrimaryMetricGoal.MAXIMIZE,\n",
    "                                max_total_runs=20,\n",
    "                                max_concurrent_runs=2)"
   ]
  },
  {
   "cell_type": "code",
   "execution_count": null,
   "metadata": {},
   "outputs": [],
   "source": [
    "new_experiment = Experiment(workspace=ws, name=\"HyperExp1\")\n",
    "new_run = new_experiment.submit(config=hyper_config)\n",
    "new_run.wait_for_completion(show_output=True)"
   ]
  }
 ],
 "metadata": {
  "kernelspec": {
   "display_name": "newtensorflow",
   "language": "python",
   "name": "python3"
  },
  "language_info": {
   "codemirror_mode": {
    "name": "ipython",
    "version": 3
   },
   "file_extension": ".py",
   "mimetype": "text/x-python",
   "name": "python",
   "nbconvert_exporter": "python",
   "pygments_lexer": "ipython3",
   "version": "3.9.16"
  }
 },
 "nbformat": 4,
 "nbformat_minor": 2
}
