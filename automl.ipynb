{
 "cells": [
  {
   "cell_type": "code",
   "execution_count": 7,
   "metadata": {},
   "outputs": [
    {
     "name": "stdout",
     "output_type": "stream",
     "text": [
      "Accessing the workspace...\n",
      "Accessing the dataset...\n"
     ]
    }
   ],
   "source": [
    "# Define a workspace and the dataset\n",
    "\n",
    "from azureml.core import Workspace\n",
    "\n",
    "print(\"Accessing the workspace...\")\n",
    "ws = Workspace.from_config(path=\"./config\")\n",
    "\n",
    "print(\"Accessing the dataset...\")\n",
    "input_ds = ws.datasets.get(\"gfdhnbv\")"
   ]
  },
  {
   "cell_type": "code",
   "execution_count": 8,
   "metadata": {},
   "outputs": [
    {
     "name": "stdout",
     "output_type": "stream",
     "text": [
      "Accessing the compute cluster...\n",
      "mlclustertemp , compute cluster found. Using it...\n"
     ]
    }
   ],
   "source": [
    "# Create a compute cluster\n",
    "\n",
    "cluster_name = \"mlclustertemp\"\n",
    "\n",
    "from azureml.core.compute import AmlCompute\n",
    "\n",
    "print(\"Accessing the compute cluster...\")\n",
    "\n",
    "if cluster_name not in ws.compute_targets:\n",
    "    print(\"Creating the compute cluster with name: \", cluster_name)\n",
    "    compute_config = AmlCompute.provisioning_configuration(vm_size=\"STANDARD_D11_V2\", max_nodes=2)\n",
    "    cluster = AmlCompute.create(ws, cluster_name, compute_config)\n",
    "    cluster.wait_for_completion()\n",
    "else:\n",
    "    cluster = ws.compute_targets[cluster_name]\n",
    "    print(cluster_name, \", compute cluster found. Using it...\")"
   ]
  },
  {
   "cell_type": "code",
   "execution_count": 9,
   "metadata": {},
   "outputs": [
    {
     "name": "stdout",
     "output_type": "stream",
     "text": [
      "Creating the AutoML Configuration...\n"
     ]
    }
   ],
   "source": [
    "# Configure the AutoML run\n",
    "\n",
    "from azureml.train.automl import AutoMLConfig\n",
    "\n",
    "print(\"Creating the AutoML Configuration...\")\n",
    "\n",
    "automl_config = AutoMLConfig(task='classification',\n",
    "                             compute_target=cluster,\n",
    "                             training_data=input_ds,\n",
    "                             validation_size=0.3,\n",
    "                             label_column_name=\"Default Next Month\",\n",
    "                             primary_metric=\"norm_macro_recall\",\n",
    "                             iterations=10,\n",
    "                             max_concurrent_iterations=2,\n",
    "                             experiment_timeout_hours=0.25,\n",
    "                             featurization=\"auto\")"
   ]
  },
  {
   "cell_type": "code",
   "execution_count": 10,
   "metadata": {},
   "outputs": [
    {
     "name": "stdout",
     "output_type": "stream",
     "text": [
      "Submitting the experiment...\n",
      "Submitting remote run.\n"
     ]
    },
    {
     "data": {
      "text/html": [
       "<table style=\"width:100%\"><tr><th>Experiment</th><th>Id</th><th>Type</th><th>Status</th><th>Details Page</th><th>Docs Page</th></tr><tr><td>azureml-sdk-exp-001</td><td>AutoML_6dde8816-5d1b-407b-8cb3-c6bdd749f5f8</td><td>automl</td><td>NotStarted</td><td><a href=\"https://ml.azure.com/runs/AutoML_6dde8816-5d1b-407b-8cb3-c6bdd749f5f8?wsid=/subscriptions/49e690c2-0fc4-42a6-ba64-9ea0fa04ddda/resourcegroups/AzureMLsdkgroup/workspaces/slavasdkworkspace&amp;tid=77487836-da45-4554-ad65-1775dca67ca5\" target=\"_blank\" rel=\"noopener\">Link to Azure Machine Learning studio</a></td><td><a href=\"https://docs.microsoft.com/en-us/python/api/overview/azure/ml/intro?view=azure-ml-py\" target=\"_blank\" rel=\"noopener\">Link to Documentation</a></td></tr></table>"
      ]
     },
     "metadata": {},
     "output_type": "display_data"
    },
    {
     "data": {
      "text/html": [
       "<table style=\"width:100%\"><tr><th>Experiment</th><th>Id</th><th>Type</th><th>Status</th><th>Details Page</th><th>Docs Page</th></tr><tr><td>azureml-sdk-exp-001</td><td>AutoML_6dde8816-5d1b-407b-8cb3-c6bdd749f5f8</td><td>automl</td><td>NotStarted</td><td><a href=\"https://ml.azure.com/runs/AutoML_6dde8816-5d1b-407b-8cb3-c6bdd749f5f8?wsid=/subscriptions/49e690c2-0fc4-42a6-ba64-9ea0fa04ddda/resourcegroups/AzureMLsdkgroup/workspaces/slavasdkworkspace&amp;tid=77487836-da45-4554-ad65-1775dca67ca5\" target=\"_blank\" rel=\"noopener\">Link to Azure Machine Learning studio</a></td><td><a href=\"https://docs.microsoft.com/en-us/python/api/overview/azure/ml/intro?view=azure-ml-py\" target=\"_blank\" rel=\"noopener\">Link to Documentation</a></td></tr></table>"
      ]
     },
     "metadata": {},
     "output_type": "display_data"
    },
    {
     "name": "stdout",
     "output_type": "stream",
     "text": [
      "\n",
      "Current status: FeaturesGeneration. Generating features for the dataset.\n",
      "Current status: DatasetFeaturizationCompleted. Beginning model selection.\n",
      "Current status: ModelSelection. Beginning model selection.\n",
      "\n",
      "********************************************************************************************\n",
      "DATA GUARDRAILS: \n",
      "\n",
      "TYPE:         Class balancing detection\n",
      "STATUS:       PASSED\n",
      "DESCRIPTION:  Your inputs were analyzed, and all classes are balanced in your training data.\n",
      "              Learn more about imbalanced data: https://aka.ms/AutomatedMLImbalancedData\n",
      "\n",
      "********************************************************************************************\n",
      "\n",
      "TYPE:         Missing feature values imputation\n",
      "STATUS:       DONE\n",
      "DESCRIPTION:  If the missing values are expected, let the run complete. Otherwise cancel the current run and use a script to customize the handling of missing feature values that may be more appropriate based on the data type and business requirement.\n",
      "              Learn more about missing value imputation: https://aka.ms/AutomatedMLFeaturization\n",
      "DETAILS:      \n",
      "+------------------------------+------------------------------+------------------------------+\n",
      "|Column name                   |Missing value count           |Imputation type               |\n",
      "+==============================+==============================+==============================+\n",
      "|Credit Given                  |13                            |mean                          |\n",
      "|Gender                        |7                             |                              |\n",
      "+------------------------------+------------------------------+------------------------------+\n",
      "\n",
      "********************************************************************************************\n",
      "\n",
      "TYPE:         High cardinality feature detection\n",
      "STATUS:       DONE\n",
      "DESCRIPTION:  The training data had the following high cardinality features which were excluded for training. Please review your data source and possibly filter out these columns. If you want to include these features for training, you can override column purpose with appropriate column type.\n",
      "              Learn more about high cardinality feature handling: https://aka.ms/AutomatedMLFeaturization\n",
      "DETAILS:      High cardinality features refer to columns that contain a large percentage of unique values.\n",
      "+------------------------------+------------------------------+\n",
      "|Column name                   |Column Content Type           |\n",
      "+==============================+==============================+\n",
      "|ID                            |hashes                        |\n",
      "+------------------------------+------------------------------+\n",
      "\n",
      "********************************************************************************************\n",
      "\n",
      "********************************************************************************************\n",
      "ITER: The iteration being evaluated.\n",
      "PIPELINE: A summary description of the pipeline being evaluated.\n",
      "DURATION: Time taken for the current iteration.\n",
      "METRIC: The result of computing score on the fitted pipeline.\n",
      "BEST: The best observed score thus far.\n",
      "********************************************************************************************\n",
      "\n",
      " ITER   PIPELINE                                       DURATION            METRIC      BEST\n",
      "    0   MaxAbsScaler LightGBM                          0:00:09             0.0627    0.0627\n",
      "    1   MaxAbsScaler XGBoostClassifier                 0:00:08             0.0776    0.0776\n",
      "    2   StandardScalerWrapper ExtremeRandomTrees       0:00:09             0.0302    0.0776\n",
      "    3   MaxAbsScaler ExtremeRandomTrees                0:00:08             0.1796    0.1796\n",
      "    4   StandardScalerWrapper RandomForest             0:00:09             0.1714    0.1796\n",
      "    5   MaxAbsScaler ExtremeRandomTrees                0:00:09             0.1060    0.1796\n",
      "    6   SparseNormalizer ExtremeRandomTrees            0:00:08             0.0000    0.1796\n",
      "    7   SparseNormalizer XGBoostClassifier             0:00:08             0.0434    0.1796\n",
      "    8    VotingEnsemble                                0:00:30             0.2024    0.2024\n",
      "    9    StackEnsemble                                 0:00:33             0.1392    0.2024\n"
     ]
    },
    {
     "data": {
      "text/plain": [
       "{'runId': 'AutoML_6dde8816-5d1b-407b-8cb3-c6bdd749f5f8',\n",
       " 'target': 'mlclustertemp',\n",
       " 'status': 'Completed',\n",
       " 'startTimeUtc': '2024-04-05T17:45:02.129963Z',\n",
       " 'endTimeUtc': '2024-04-05T17:54:33.147791Z',\n",
       " 'services': {},\n",
       " 'properties': {'num_iterations': '10',\n",
       "  'training_type': 'TrainFull',\n",
       "  'acquisition_function': 'EI',\n",
       "  'primary_metric': 'norm_macro_recall',\n",
       "  'train_split': '0.3',\n",
       "  'acquisition_parameter': '0',\n",
       "  'num_cross_validation': None,\n",
       "  'target': 'mlclustertemp',\n",
       "  'AMLSettingsJsonString': '{\"path\":null,\"name\":\"azureml-sdk-exp-001\",\"subscription_id\":\"49e690c2-0fc4-42a6-ba64-9ea0fa04ddda\",\"resource_group\":\"AzureMLsdkgroup\",\"workspace_name\":\"slavasdkworkspace\",\"region\":\"westus\",\"compute_target\":\"mlclustertemp\",\"spark_service\":null,\"azure_service\":\"remote\",\"many_models\":false,\"pipeline_fetch_max_batch_size\":1,\"enable_batch_run\":true,\"enable_parallel_run\":false,\"num_procs\":null,\"enable_run_restructure\":false,\"start_auxiliary_runs_before_parent_complete\":false,\"enable_code_generation\":true,\"force_curated_environment\":false,\"iterations\":10,\"primary_metric\":\"norm_macro_recall\",\"task_type\":\"classification\",\"positive_label\":null,\"data_script\":null,\"test_size\":0.0,\"test_include_predictions_only\":false,\"validation_size\":0.3,\"n_cross_validations\":null,\"y_min\":null,\"y_max\":null,\"num_classes\":null,\"featurization\":\"auto\",\"_ignore_package_version_incompatibilities\":false,\"is_timeseries\":false,\"max_cores_per_iteration\":1,\"max_concurrent_iterations\":2,\"iteration_timeout_minutes\":null,\"mem_in_mb\":null,\"enforce_time_on_windows\":true,\"experiment_timeout_minutes\":15,\"experiment_exit_score\":null,\"partition_column_names\":null,\"whitelist_models\":null,\"blacklist_algos\":[\"TensorFlowLinearClassifier\",\"TensorFlowDNN\"],\"supported_models\":[\"SGD\",\"LogisticRegression\",\"MultinomialNaiveBayes\",\"LinearSVM\",\"RandomForest\",\"XGBoostClassifier\",\"TensorFlowLinearClassifier\",\"BernoulliNaiveBayes\",\"LightGBM\",\"GradientBoosting\",\"TensorFlowDNN\",\"SVM\",\"TabnetClassifier\",\"AveragedPerceptronClassifier\",\"KNN\",\"DecisionTree\",\"ExtremeRandomTrees\"],\"private_models\":[],\"auto_blacklist\":true,\"blacklist_samples_reached\":false,\"exclude_nan_labels\":true,\"verbosity\":20,\"_debug_log\":\"azureml_automl.log\",\"show_warnings\":false,\"model_explainability\":true,\"service_url\":null,\"sdk_url\":null,\"sdk_packages\":null,\"enable_onnx_compatible_models\":false,\"enable_split_onnx_featurizer_estimator_models\":false,\"vm_type\":\"Standard_DS3_v2\",\"telemetry_verbosity\":20,\"send_telemetry\":true,\"enable_dnn\":false,\"scenario\":\"AutoML\",\"environment_label\":null,\"save_mlflow\":false,\"enable_categorical_indicators\":false,\"force_text_dnn\":false,\"enable_feature_sweeping\":true,\"enable_early_stopping\":true,\"early_stopping_n_iters\":10,\"arguments\":null,\"dataset_id\":\"d558e892-9084-4199-aff1-eb7cb2b086f5\",\"hyperdrive_config\":null,\"validation_dataset_id\":null,\"run_source\":null,\"metrics\":null,\"enable_metric_confidence\":false,\"enable_ensembling\":true,\"enable_stack_ensembling\":true,\"ensemble_iterations\":10,\"enable_tf\":false,\"enable_subsampling\":false,\"subsample_seed\":null,\"enable_nimbusml\":false,\"enable_streaming\":false,\"force_streaming\":false,\"track_child_runs\":true,\"n_best_runs\":1,\"allowed_private_models\":[],\"label_column_name\":\"Default Next Month\",\"weight_column_name\":null,\"cv_split_column_names\":null,\"enable_local_managed\":false,\"_local_managed_run_id\":null,\"cost_mode\":1,\"lag_length\":0,\"metric_operation\":\"maximize\",\"preprocess\":true}',\n",
       "  'DataPrepJsonString': '{\\\\\"training_data\\\\\": {\\\\\"datasetId\\\\\": \\\\\"d558e892-9084-4199-aff1-eb7cb2b086f5\\\\\"}, \\\\\"datasets\\\\\": 0}',\n",
       "  'EnableSubsampling': 'False',\n",
       "  'runTemplate': 'AutoML',\n",
       "  'azureml.runsource': 'automl',\n",
       "  'display_task_type': 'classification',\n",
       "  'dependencies_versions': '{\"azureml-dataprep-native\": \"41.0.0\", \"azureml-dataprep\": \"5.1.6\", \"azureml-dataprep-rslex\": \"2.22.2\", \"azureml-automl-core\": \"1.55.0.post2\", \"azureml-core\": \"1.55.0.post2\", \"azureml-train-automl-client\": \"1.55.0.post1\", \"azureml-dataset-runtime\": \"1.55.0\", \"azureml-pipeline\": \"1.55.0\", \"azureml-pipeline-core\": \"1.55.0\", \"azureml-pipeline-steps\": \"1.55.0\", \"azureml-sdk\": \"1.55.0\", \"azureml-telemetry\": \"1.55.0\", \"azureml-train-core\": \"1.55.0\", \"azureml-train-restclients-hyperdrive\": \"1.55.0\"}',\n",
       "  '_aml_system_scenario_identification': 'Remote.Parent',\n",
       "  'ClientType': 'SDK',\n",
       "  'PlatformVersion': 'DPV1',\n",
       "  'environment_cpu_name': 'AzureML-AutoML',\n",
       "  'environment_cpu_label': 'prod',\n",
       "  'environment_gpu_name': 'AzureML-AutoML-GPU',\n",
       "  'environment_gpu_label': 'prod',\n",
       "  'root_attribution': 'automl',\n",
       "  'attribution': 'AutoML',\n",
       "  'Orchestrator': 'AutoML',\n",
       "  'CancelUri': 'https://westus.api.azureml.ms/jasmine/v1.0/subscriptions/49e690c2-0fc4-42a6-ba64-9ea0fa04ddda/resourceGroups/AzureMLsdkgroup/providers/Microsoft.MachineLearningServices/workspaces/slavasdkworkspace/experimentids/ac0b1726-6665-46ea-a69f-a34cd32b9aae/cancel/AutoML_6dde8816-5d1b-407b-8cb3-c6bdd749f5f8',\n",
       "  'azureml.git.repository_uri': 'https://github.com/CalesSla/Azure-SDK-dp.git',\n",
       "  'mlflow.source.git.repoURL': 'https://github.com/CalesSla/Azure-SDK-dp.git',\n",
       "  'azureml.git.branch': 'master',\n",
       "  'mlflow.source.git.branch': 'master',\n",
       "  'azureml.git.commit': '47ea9e9c1c47f4f84dd859450b05c407b7969228',\n",
       "  'mlflow.source.git.commit': '47ea9e9c1c47f4f84dd859450b05c407b7969228',\n",
       "  'azureml.git.dirty': 'True',\n",
       "  'ClientSdkVersion': None,\n",
       "  'snapshotId': '00000000-0000-0000-0000-000000000000',\n",
       "  'SetupRunId': 'AutoML_6dde8816-5d1b-407b-8cb3-c6bdd749f5f8_setup',\n",
       "  'SetupRunContainerId': 'dcid.AutoML_6dde8816-5d1b-407b-8cb3-c6bdd749f5f8_setup',\n",
       "  'FeaturizationRunJsonPath': 'featurizer_container.json',\n",
       "  'FeaturizationRunId': 'AutoML_6dde8816-5d1b-407b-8cb3-c6bdd749f5f8_featurize',\n",
       "  'ProblemInfoJsonString': '{\"dataset_num_categorical\": 0, \"is_sparse\": true, \"subsampling\": false, \"has_extra_col\": true, \"dataset_classes\": 2, \"dataset_features\": 56, \"dataset_samples\": 1120, \"single_frequency_class_detected\": false}',\n",
       "  'ModelExplainRunId': 'AutoML_6dde8816-5d1b-407b-8cb3-c6bdd749f5f8_ModelExplain'},\n",
       " 'inputDatasets': [{'dataset': {'id': 'd558e892-9084-4199-aff1-eb7cb2b086f5'}, 'consumptionDetails': {'type': 'RunInput', 'inputName': 'training_data', 'mechanism': 'Direct'}}],\n",
       " 'outputDatasets': [],\n",
       " 'logFiles': {},\n",
       " 'submittedBy': 'Slava Calestru'}"
      ]
     },
     "execution_count": 10,
     "metadata": {},
     "output_type": "execute_result"
    }
   ],
   "source": [
    "# Create and submit the experiment\n",
    "from azureml.core.experiment import Experiment\n",
    "\n",
    "new_exp = Experiment(ws, \"azureml-sdk-exp-001\")\n",
    "\n",
    "print(\"Submitting the experiment...\")\n",
    "\n",
    "new_run = new_exp.submit(automl_config)\n",
    "\n",
    "new_run.wait_for_completion(show_output=True)"
   ]
  },
  {
   "cell_type": "code",
   "execution_count": 15,
   "metadata": {},
   "outputs": [
    {
     "data": {
      "text/html": [
       "<table style=\"width:100%\"><tr><th>Experiment</th><th>Id</th><th>Type</th><th>Status</th><th>Details Page</th><th>Docs Page</th></tr><tr><td>azureml-sdk-exp-001</td><td>AutoML_6dde8816-5d1b-407b-8cb3-c6bdd749f5f8_8</td><td>azureml.scriptrun</td><td>Completed</td><td><a href=\"https://ml.azure.com/runs/AutoML_6dde8816-5d1b-407b-8cb3-c6bdd749f5f8_8?wsid=/subscriptions/49e690c2-0fc4-42a6-ba64-9ea0fa04ddda/resourcegroups/AzureMLsdkgroup/workspaces/slavasdkworkspace&amp;tid=77487836-da45-4554-ad65-1775dca67ca5\" target=\"_blank\" rel=\"noopener\">Link to Azure Machine Learning studio</a></td><td><a href=\"https://docs.microsoft.com/en-us/python/api/azureml-core/azureml.core.run.Run?view=azure-ml-py\" target=\"_blank\" rel=\"noopener\">Link to Documentation</a></td></tr></table>"
      ],
      "text/plain": [
       "Run(Experiment: azureml-sdk-exp-001,\n",
       "Id: AutoML_6dde8816-5d1b-407b-8cb3-c6bdd749f5f8_8,\n",
       "Type: azureml.scriptrun,\n",
       "Status: Completed)"
      ]
     },
     "execution_count": 15,
     "metadata": {},
     "output_type": "execute_result"
    }
   ],
   "source": [
    "# Retrieve the best model\n",
    "best_child = new_run.get_best_child()\n",
    "best_child"
   ]
  },
  {
   "cell_type": "code",
   "execution_count": 16,
   "metadata": {},
   "outputs": [
    {
     "name": "stdout",
     "output_type": "stream",
     "text": [
      "\n",
      "Run ID :  AutoML_6dde8816-5d1b-407b-8cb3-c6bdd749f5f8_9\n",
      "{'accuracy': 0.5979166666666667}\n",
      "{'norm_macro_recall': 0.13918878014327518}\n",
      "\n",
      "Run ID :  AutoML_6dde8816-5d1b-407b-8cb3-c6bdd749f5f8_8\n",
      "{'accuracy': 0.6208333333333333}\n",
      "{'norm_macro_recall': 0.20240137221269294}\n",
      "\n",
      "Run ID :  AutoML_6dde8816-5d1b-407b-8cb3-c6bdd749f5f8_7\n",
      "{'accuracy': 0.7708333333333334}\n",
      "{'norm_macro_recall': 0.04338613661588142}\n",
      "\n",
      "Run ID :  AutoML_6dde8816-5d1b-407b-8cb3-c6bdd749f5f8_6\n",
      "{'accuracy': 0.7791666666666667}\n",
      "{'norm_macro_recall': 0.0}\n",
      "\n",
      "Run ID :  AutoML_6dde8816-5d1b-407b-8cb3-c6bdd749f5f8_5\n",
      "{'accuracy': 0.55625}\n",
      "{'norm_macro_recall': 0.10599334073251931}\n",
      "\n",
      "Run ID :  AutoML_6dde8816-5d1b-407b-8cb3-c6bdd749f5f8_4\n",
      "{'accuracy': 0.6125}\n",
      "{'norm_macro_recall': 0.17142568862879637}\n",
      "\n",
      "Run ID :  AutoML_6dde8816-5d1b-407b-8cb3-c6bdd749f5f8_worker_1\n",
      "{}\n",
      "{}\n",
      "\n",
      "Run ID :  AutoML_6dde8816-5d1b-407b-8cb3-c6bdd749f5f8_3\n",
      "{'accuracy': 0.6083333333333333}\n",
      "{'norm_macro_recall': 0.1795984259913228}\n",
      "\n",
      "Run ID :  AutoML_6dde8816-5d1b-407b-8cb3-c6bdd749f5f8_2\n",
      "{'accuracy': 0.75}\n",
      "{'norm_macro_recall': 0.030168499646856972}\n",
      "\n",
      "Run ID :  AutoML_6dde8816-5d1b-407b-8cb3-c6bdd749f5f8_1\n",
      "{'accuracy': 0.7395833333333334}\n",
      "{'norm_macro_recall': 0.07764100494400172}\n",
      "\n",
      "Run ID :  AutoML_6dde8816-5d1b-407b-8cb3-c6bdd749f5f8_0\n",
      "{'accuracy': 0.74375}\n",
      "{'norm_macro_recall': 0.0627081021087681}\n",
      "\n",
      "Run ID :  AutoML_6dde8816-5d1b-407b-8cb3-c6bdd749f5f8_worker_0\n",
      "{}\n",
      "{}\n",
      "\n",
      "Run ID :  AutoML_6dde8816-5d1b-407b-8cb3-c6bdd749f5f8_featurize\n",
      "{}\n",
      "{}\n",
      "\n",
      "Run ID :  AutoML_6dde8816-5d1b-407b-8cb3-c6bdd749f5f8_setup\n",
      "{}\n",
      "{}\n"
     ]
    }
   ],
   "source": [
    "# Get the metrics for all the runs\n",
    "\n",
    "for run in new_run.get_children():\n",
    "    print(\"\")\n",
    "    print(\"Run ID : \", run.id)\n",
    "    print(run.get_metrics(\"accuracy\"))\n",
    "    print(run.get_metrics(\"norm_macro_recall\"))"
   ]
  },
  {
   "cell_type": "code",
   "execution_count": null,
   "metadata": {},
   "outputs": [],
   "source": []
  }
 ],
 "metadata": {
  "kernelspec": {
   "display_name": "newtensorflow",
   "language": "python",
   "name": "python3"
  },
  "language_info": {
   "codemirror_mode": {
    "name": "ipython",
    "version": 3
   },
   "file_extension": ".py",
   "mimetype": "text/x-python",
   "name": "python",
   "nbconvert_exporter": "python",
   "pygments_lexer": "ipython3",
   "version": "3.9.16"
  }
 },
 "nbformat": 4,
 "nbformat_minor": 2
}
