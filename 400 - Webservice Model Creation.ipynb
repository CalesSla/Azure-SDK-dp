{
 "cells": [
  {
   "cell_type": "code",
   "execution_count": 8,
   "metadata": {},
   "outputs": [
    {
     "name": "stdout",
     "output_type": "stream",
     "text": [
      "Accessing the workspace...\n",
      "Accessing the dataset...\n",
      "Accessing/Creating the experiment...\n",
      "Stant Experiment using Start Logging method...\n"
     ]
    }
   ],
   "source": [
    "from azureml.core import Workspace, Dataset, Experiment\n",
    "\n",
    "print(\"Accessing the workspace...\")\n",
    "ws = Workspace.from_config(\"./config\")\n",
    "\n",
    "print(\"Accessing the dataset...\")\n",
    "az_dataset = Dataset.get_by_name(ws, \"adultincome\")\n",
    "\n",
    "print(\"Accessing/Creating the experiment...\")\n",
    "experiment = Experiment(workspace = ws, name=\"Webservice-exp001\")\n",
    "\n",
    "print(\"Stant Experiment using Start Logging method...\")\n",
    "new_run = experiment.start_logging()"
   ]
  },
  {
   "cell_type": "code",
   "execution_count": 9,
   "metadata": {},
   "outputs": [
    {
     "name": "stdout",
     "output_type": "stream",
     "text": [
      "Loading the dataset to pandas dataframe...\n",
      "{'infer_column_types': 'False', 'activity': 'to_pandas_dataframe'}\n",
      "{'infer_column_types': 'False', 'activity': 'to_pandas_dataframe', 'activityApp': 'TabularDataset'}\n"
     ]
    }
   ],
   "source": [
    "import pandas as pd\n",
    "\n",
    "print(\"Loading the dataset to pandas dataframe...\")\n",
    "df = az_dataset.to_pandas_dataframe()\n",
    "\n",
    "X = df.iloc[:, :-1]\n",
    "Y = df.iloc[:, -1:]\n",
    "\n",
    "X = pd.get_dummies(X)\n",
    "\n",
    "train_enc_cols = X.columns\n",
    "\n",
    "Y = pd.get_dummies(Y)\n",
    "Y = Y.iloc[:,-1]\n",
    "\n",
    "from sklearn.model_selection import train_test_split\n",
    "X_train, X_test, Y_train, Y_test = train_test_split(X, Y, test_size=0.3, random_state=1234, stratify=Y)\n",
    "\n",
    "from sklearn.ensemble import RandomForestClassifier\n",
    "rfc = RandomForestClassifier(random_state=1234)\n",
    "\n",
    "trained_model = rfc.fit(X_train, Y_train)\n",
    "\n",
    "Y_predict = rfc.predict(X_test)\n",
    "Y_prob = rfc.predict_proba(X_test)[:, 1]\n",
    "from sklearn.metrics import confusion_matrix\n",
    "\n",
    "cm = confusion_matrix(Y_test, Y_predict)\n",
    "score = rfc.score(X_test, Y_test)\n",
    "\n",
    "new_run.log(\"accuracy\", score)\n",
    "\n",
    "import joblib\n",
    "model_file = \"./outputs/models.pkl\"\n",
    "joblib.dump(value=[train_enc_cols, trained_model], filename=model_file)\n",
    "\n",
    "new_run.complete()"
   ]
  },
  {
   "cell_type": "code",
   "execution_count": 12,
   "metadata": {},
   "outputs": [
    {
     "data": {
      "text/plain": [
       "[Run(Experiment: Webservice-exp001,\n",
       " Id: f6a36767-5303-4f3c-b7d8-a71c93f0e2fe,\n",
       " Type: None,\n",
       " Status: Completed),\n",
       " Run(Experiment: Webservice-exp001,\n",
       " Id: 0a962bf6-c2f8-4e35-899d-aef9f74e8917,\n",
       " Type: None,\n",
       " Status: Completed),\n",
       " Run(Experiment: Webservice-exp001,\n",
       " Id: b4050751-a15f-4c8b-a066-2fc810319c8e,\n",
       " Type: None,\n",
       " Status: Running)]"
      ]
     },
     "execution_count": 12,
     "metadata": {},
     "output_type": "execute_result"
    }
   ],
   "source": [
    "list(experiment.get_runs())"
   ]
  },
  {
   "cell_type": "code",
   "execution_count": 7,
   "metadata": {},
   "outputs": [
    {
     "data": {
      "text/plain": [
       "{'accuracy': 0.8560753403623708}"
      ]
     },
     "execution_count": 7,
     "metadata": {},
     "output_type": "execute_result"
    }
   ],
   "source": [
    "new_run.get_metrics()"
   ]
  },
  {
   "cell_type": "code",
   "execution_count": null,
   "metadata": {},
   "outputs": [],
   "source": []
  }
 ],
 "metadata": {
  "kernelspec": {
   "display_name": "newtensorflow",
   "language": "python",
   "name": "python3"
  },
  "language_info": {
   "codemirror_mode": {
    "name": "ipython",
    "version": 3
   },
   "file_extension": ".py",
   "mimetype": "text/x-python",
   "name": "python",
   "nbconvert_exporter": "python",
   "pygments_lexer": "ipython3",
   "version": "3.9.16"
  }
 },
 "nbformat": 4,
 "nbformat_minor": 2
}
